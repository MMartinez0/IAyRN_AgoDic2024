{
  "nbformat": 4,
  "nbformat_minor": 0,
  "metadata": {
    "colab": {
      "provenance": [],
      "authorship_tag": "ABX9TyPkwNfoW22H5NzBr3QMlmJn",
      "include_colab_link": true
    },
    "kernelspec": {
      "name": "python3",
      "display_name": "Python 3"
    },
    "language_info": {
      "name": "python"
    }
  },
  "cells": [
    {
      "cell_type": "markdown",
      "metadata": {
        "id": "view-in-github",
        "colab_type": "text"
      },
      "source": [
        "<a href=\"https://colab.research.google.com/github/MMartinez0/IAyRN_AgoDic2024/blob/main/EjercicioPython_1.ipynb\" target=\"_parent\"><img src=\"https://colab.research.google.com/assets/colab-badge.svg\" alt=\"Open In Colab\"/></a>"
      ]
    },
    {
      "cell_type": "code",
      "execution_count": null,
      "metadata": {
        "id": "h2t7FsL2iVb5"
      },
      "outputs": [],
      "source": []
    },
    {
      "cell_type": "markdown",
      "source": [
        "**Ejercicio 1**"
      ],
      "metadata": {
        "id": "LCp1fhG0jBDx"
      }
    },
    {
      "cell_type": "code",
      "source": [
        "nombre=input (\"Por favor, ingresa tu nombre\")\n",
        "nombres_excluidos=[\"Ana\", \"Juan\", \"Pedro\"]\n",
        "if nombre in nombres_excluidos:\n",
        "  print(\"Lo siento, no puedo saludarte,\")\n",
        "else:\n",
        "    print(f\"Hola,{nombre}!\")"
      ],
      "metadata": {
        "colab": {
          "base_uri": "https://localhost:8080/"
        },
        "id": "rEslW8SEkNzq",
        "outputId": "418e3752-0e65-4918-8b95-e01eb3968f69"
      },
      "execution_count": null,
      "outputs": [
        {
          "output_type": "stream",
          "name": "stdout",
          "text": [
            "Por favor, ingresa tu nombreMariana \n",
            "Hola,Mariana !\n"
          ]
        }
      ]
    },
    {
      "cell_type": "markdown",
      "source": [
        "**Ejercicio 2**"
      ],
      "metadata": {
        "id": "TMRDnywVl28K"
      }
    },
    {
      "cell_type": "code",
      "source": [
        "def invertir_lista(lista):\n",
        "  return lista[::-1]\n",
        "n = int(input(\"¿Cuantos elementos tendrá la lista?\"))\n",
        "lista = []\n",
        "for i in range(n):\n",
        "  elemento = input(f\"Ingrese el elemento {i+1}: \")\n",
        "  lista.append(elemento)\n",
        "lista_invertida = invertir_lista(lista)\n",
        "print(\"La lista invertida es:\", lista_invertida)"
      ],
      "metadata": {
        "colab": {
          "base_uri": "https://localhost:8080/"
        },
        "id": "b7tlRh5D1LNn",
        "outputId": "7b4c12fe-6fcf-48d2-8178-c229d6c01b6d"
      },
      "execution_count": null,
      "outputs": [
        {
          "output_type": "stream",
          "name": "stdout",
          "text": [
            "¿Cuantos elementos tendrá la lista?4\n",
            "Ingrese el elemento 1: 1\n",
            "Ingrese el elemento 2: 3\n",
            "Ingrese el elemento 3: 6\n",
            "Ingrese el elemento 4: 8\n",
            "La lista invertida es: ['8', '6', '3', '1']\n"
          ]
        }
      ]
    },
    {
      "cell_type": "markdown",
      "source": [
        "**Ejercicio 3**"
      ],
      "metadata": {
        "id": "-tEcnISOnWXe"
      }
    },
    {
      "cell_type": "code",
      "source": [
        "def generar_fibonacci(n):\n",
        "  fibonacci=[]\n",
        "  a, b = 0, 1\n",
        "  for _ in range(n):\n",
        "    fibonacci.append(a)\n",
        "    a, b = b, a+b\n",
        "  return fibonacci\n",
        "\n",
        "num =int(input(\"¿Cuántos números de la serie de Fibonacci quieres generar?\"))\n",
        "serie_fibonacci = generar_fibonacci(num)\n",
        "print(\"La serie de Fibonacci es:\", serie_fibonacci)"
      ],
      "metadata": {
        "colab": {
          "base_uri": "https://localhost:8080/"
        },
        "id": "BT0SW_a91jTU",
        "outputId": "2d7a4d7d-6329-45fa-cb10-04bb026b7226"
      },
      "execution_count": null,
      "outputs": [
        {
          "output_type": "stream",
          "name": "stdout",
          "text": [
            "¿Cuántos números de la serie de Fibonacci quieres generar?12\n",
            "La serie de Fibonacci es: [0, 1, 1, 2, 3, 5, 8, 13, 21, 34, 55, 89]\n"
          ]
        }
      ]
    },
    {
      "cell_type": "markdown",
      "source": [
        "**Ejercicio 4**"
      ],
      "metadata": {
        "id": "3p7apZllqTy5"
      }
    },
    {
      "cell_type": "code",
      "source": [
        "import random\n",
        "numero_objetivo = random.randint(1, 100)\n",
        "adivinanza = None\n",
        "print(\"¡Bienvenido al juego de adivinar el numero!\")\n",
        "print(\"He generado en un numero entre 1 y 100. ¡Trata de adivinarlo!\")\n",
        "\n",
        "while adivinanza != numero_objetivo:\n",
        "    adivinanza = int(input(\"Ingresa tu suposición: \"))\n",
        "    if adivinanza < numero_objetivo:\n",
        "      print(\"Demasiado bajo. ¡Intenta de nuevo!\")\n",
        "    elif adivinanza > numero_objetivo:\n",
        "      print(\"Demasiado alto. ¡Intenta de nuevo!\")\n",
        "    else:\n",
        "      print(f\"¡Felicidades! ¡Adivinaste el numero {numero_objetivo}!\")"
      ],
      "metadata": {
        "colab": {
          "base_uri": "https://localhost:8080/"
        },
        "id": "TTl2tISbsbzC",
        "outputId": "94f96606-046d-45b4-ebc6-5e7c72961523"
      },
      "execution_count": null,
      "outputs": [
        {
          "output_type": "stream",
          "name": "stdout",
          "text": [
            "¡Bienvenido al juego de adivinar el numero!\n",
            "He generado en un numero entre 1 y 100. ¡Trata de adivinarlo!\n",
            "Ingresa tu suposición: 54\n",
            "Demasiado bajo. ¡Intenta de nuevo!\n",
            "Ingresa tu suposición: 99\n",
            "Demasiado alto. ¡Intenta de nuevo!\n",
            "Ingresa tu suposición: 98\n",
            "Demasiado alto. ¡Intenta de nuevo!\n",
            "Ingresa tu suposición: 97\n",
            "Demasiado alto. ¡Intenta de nuevo!\n",
            "Ingresa tu suposición: 94\n",
            "Demasiado alto. ¡Intenta de nuevo!\n",
            "Ingresa tu suposición: 90\n",
            "¡Felicidades! ¡Adivinaste el numero 90!\n"
          ]
        }
      ]
    },
    {
      "cell_type": "markdown",
      "source": [
        "**Ejercicio 5**"
      ],
      "metadata": {
        "id": "KJYQLGh9uAY-"
      }
    },
    {
      "cell_type": "code",
      "source": [
        "def es_primo(n):\n",
        "  if n < 2:\n",
        "    return False\n",
        "  for i in range(2, int(n**0.5) + 1):\n",
        "    if n % i == 0:\n",
        "      return False\n",
        "  return True\n",
        "\n",
        "inicio =int(input(\"Ingresa el número inicial del rango: \"))\n",
        "fin = int(input(\"Ingresa el número final del rango: \"))\n",
        "print(f\"Los números primos en el rango de {inicio} a {fin} son:\")\n",
        "for num in range(inicio, fin + 1):\n",
        "  if es_primo(num):\n",
        "    print(num)"
      ],
      "metadata": {
        "colab": {
          "base_uri": "https://localhost:8080/"
        },
        "id": "RGRLCOcPumFs",
        "outputId": "ceec880d-ee3c-4beb-ab78-f4bc0e4234ca"
      },
      "execution_count": null,
      "outputs": [
        {
          "output_type": "stream",
          "name": "stdout",
          "text": [
            "Ingresa el número inicial del rango: 5\n",
            "Ingresa el número final del rango: 98\n",
            "Los números primos en el rango de 5 a 98 son:\n",
            "5\n",
            "7\n",
            "11\n",
            "13\n",
            "17\n",
            "19\n",
            "23\n",
            "29\n",
            "31\n",
            "37\n",
            "41\n",
            "43\n",
            "47\n",
            "53\n",
            "59\n",
            "61\n",
            "67\n",
            "71\n",
            "73\n",
            "79\n",
            "83\n",
            "89\n",
            "97\n"
          ]
        }
      ]
    },
    {
      "cell_type": "markdown",
      "source": [
        "**Ejercicio 6**"
      ],
      "metadata": {
        "id": "zHYCJG9jvYCx"
      }
    },
    {
      "cell_type": "code",
      "source": [
        "def sumar(a, b):\n",
        "  return a + b\n",
        "def restar(a, b):\n",
        "  return a - b\n",
        "def multiplicar(a, b):\n",
        "  return a * b\n",
        "def dividir(a, b):\n",
        "    return a / b\n",
        "    if b != 0:\n",
        "        return a / b\n",
        "    else:\n",
        "          return \"Error: No se puede dividir por cero\"\n",
        "\n",
        "numero1= float(input(\"Ingrese el primer número: \"))\n",
        "numero2= float(input(\"Ingrese el segundo número: \"))\n",
        "\n",
        "print(\"\\nElige la operacion que deseas realizar:\")\n",
        "print(\"1. Sumar\")\n",
        "print(\"2. Restar\")\n",
        "print(\"3. Multiplicar\")\n",
        "print(\"4. Dividir\")\n",
        "\n",
        "opcion = input(\"Ingrese el número de la operación que desea realizar: \")\n",
        "\n",
        "if opcion == \"1\":\n",
        "  resultado = sumar(numero1, numero2)\n",
        "  print(f\"El resultado de la suma es: {resultado}\")\n",
        "elif opcion == \"2\":\n",
        "  resultado = restar(numero1, numero2)\n",
        "  print(f\"El resultado de la resta es: {resultado}\")\n",
        "elif opcion == \"3\":\n",
        "  resultado = multiplicar(numero1, numero2)\n",
        "  print(f\"El resultado de la multiplicación es: {resultado}\")\n",
        "elif opcion == \"4\":\n",
        "    resultado = dividir(numero1, numero2)\n",
        "    print(f\"El resultado de la división es: {resultado}\")\n",
        "else:\n",
        "  print(\"Opción no válida. Por favor, ingrese una operacion del 1 al 4.\")"
      ],
      "metadata": {
        "colab": {
          "base_uri": "https://localhost:8080/"
        },
        "id": "byysAKS30QDg",
        "outputId": "1f027fb7-6c72-4e7d-9441-edec4e3eaee0"
      },
      "execution_count": null,
      "outputs": [
        {
          "output_type": "stream",
          "name": "stdout",
          "text": [
            "Ingrese el primer número: 3\n",
            "Ingrese el segundo número: 2\n",
            "\n",
            "Elige la operacion que deseas realizar:\n",
            "1. Sumar\n",
            "2. Restar\n",
            "3. Multiplicar\n",
            "4. Dividir\n",
            "Ingrese el número de la operación que desea realizar: 3\n",
            "El resultado de la multiplicación es: 6.0\n"
          ]
        }
      ]
    },
    {
      "cell_type": "markdown",
      "source": [],
      "metadata": {
        "id": "iXdxuSF5zR7l"
      }
    }
  ]
}